{
 "cells": [
  {
   "cell_type": "markdown",
   "metadata": {},
   "source": [
    "## Задание 4: визуализация многомерных данных \n",
    "- Срок сдачи: до 12 мая включительно. \n",
    "- Реализуйте один из алгоритмов LLE, IsoMap, **t-SNE** для визуализации многомерных данных. \n",
    "- Входные данные на Ваш выбор. Возьмите тот датасет, который лично Вам интересен и для которого реально видно, что алгоритм выдаёт разумное расположение. \n",
    "- В качестве бонуса можно реализовать Hessian LLE или UMAP. \n",
    "\n",
    "### Мною был выбран t-SNE."
   ]
  },
  {
   "cell_type": "code",
   "execution_count": 17,
   "metadata": {},
   "outputs": [],
   "source": [
    "import numpy as np\n",
    "import matplotlib.pyplot as plt\n",
    "from mpl_toolkits.mplot3d import Axes3D\n",
    "import seaborn as sns\n",
    "\n",
    "# Источники \n",
    "# - https://cs.nyu.edu/~roweis/papers/sne_final.pdf\n",
    "# - http://www.cs.toronto.edu/~hinton/absps/tsne.pdf\n",
    "\n",
    "PERPLEXITY=5\n",
    "g_kernel=1\n",
    "EPOCHS=2000\n",
    "LR=200\n",
    "MOMENTUM=0.99\n",
    "\n",
    "\n",
    "def getKey(item):\n",
    "    return item[1]\n",
    "\n",
    "\n",
    "def k_neighbours(x,x1_index,p_or_q='p'):\n",
    "    x1=x[x1_index]\n",
    "    list_k_neighbours=[]\n",
    "    for i in range(x.shape[0]):\n",
    "        if i!=x1_index:\n",
    "            xi=x[i]\n",
    "            if p_or_q=='p':\n",
    "                distance=np.exp(-np.linalg.norm(x1-xi)**2/(2*g_kernel**2))\n",
    "            else:\n",
    "                distance=(1+np.linalg.norm(x1-xi)**2)**-1\n",
    "            list_k_neighbours.append([i,distance])\n",
    "    \n",
    "    list_k_neighbours=sorted(list_k_neighbours,key=getKey)\n",
    "    return list_k_neighbours[:PERPLEXITY]\n",
    "\n",
    "\n",
    "def compute_pij(x,x1_index,x2_index):\n",
    "    x1=x[x1_index]\n",
    "    x2=x[x2_index]\n",
    "    num=np.exp(-np.linalg.norm(x1-x2)**2)/(2*g_kernel**2)\n",
    "    denom=0\n",
    "    list_k_neighbours=k_neighbours(x,x1_index,'p')\n",
    "    for i in list_k_neighbours:\n",
    "        denom+=i[1]\n",
    "    return num/denom\n",
    "\n",
    "\n",
    "def compute_p(x):\n",
    "    table=np.zeros((x.shape[0],x.shape[0]))\n",
    "    for i in range(x.shape[0]):\n",
    "        for j in range(x.shape[0]):\n",
    "            if i!=j:\n",
    "                pij=compute_pij(x,i,j)\n",
    "                pji=compute_pij(x,j,i)\n",
    "                table[i,j]=(pij+pji)/(2*x.shape[0])\n",
    "    return table\n",
    "\n",
    "\n",
    "def compute_qij(y,y1_index,y2_index):\n",
    "    y1=y[y1_index]\n",
    "    y2=y[y2_index]\n",
    "    num=(1+np.linalg.norm(y1-y2)**2)**(-1)\n",
    "    denom=0\n",
    "    for i in k_neighbours(y,y1_index,'q'):\n",
    "        denom+=i[1]\n",
    "    return num/denom\n",
    "\n",
    "\n",
    "def compute_q(y):\n",
    "    table=np.zeros((y.shape[0],y.shape[0]))\n",
    "    for i in range(y.shape[0]):\n",
    "        for j in range(y.shape[0]):\n",
    "            if i!=j:\n",
    "                qij=compute_qij(y,i,j)\n",
    "                table[i,j]=qij\n",
    "    return table\n",
    "\n",
    "\n",
    "def kl_divergence(p,q):\n",
    "    total=0\n",
    "    for i in range(p.shape[0]):\n",
    "        for j in range(q.shape[0]):\n",
    "            if q[i,j]!=0 and p[i,j]!=0:\n",
    "                total+=p[i,j]*np.log(p[i,j]/q[i,j])\n",
    "    return total\n",
    "\n",
    "\n",
    "def gradient_descent(p,q,y):\n",
    "    history=np.zeros((p.shape[0],2,y.shape[1]))\n",
    "    for iter in range(EPOCHS):\n",
    "        for i in range(y.shape[0]):\n",
    "            sum_value=0\n",
    "            for j in range(y.shape[0]):\n",
    "                sum_value+=((y[i]-y[j])*(p[i,j]-q[i,j])*(1+np.linalg.norm(y[i]-y[j]**2))**-1)\n",
    "            y[i]-=4*LR*sum_value+MOMENTUM*(history[i,1]-history[i,0])\n",
    "            history[i,0]=history[i,1]\n",
    "            history[i,1]=y[i]\n",
    "        if iter%100==0:\n",
    "            q=compute_q(y)\n",
    "            print('divergence', kl_divergence(p,q)) \n",
    "    y-=np.mean(y)\n",
    "    y/=np.std(y)\n",
    "    return y"
   ]
  },
  {
   "cell_type": "markdown",
   "metadata": {},
   "source": [
    "### Генерация датасета"
   ]
  },
  {
   "cell_type": "code",
   "execution_count": 18,
   "metadata": {},
   "outputs": [
    {
     "data": {
      "image/png": "[encoded data removed]",
      "text/plain": [
       "<Figure size 432x288 with 1 Axes>"
      ]
     },
     "metadata": {
      "needs_background": "light"
     },
     "output_type": "display_data"
    }
   ],
   "source": [
    "x=np.random.rand(10,3)\n",
    "x=np.tile(x,(2,1))\n",
    "x[:10]*=0.1\n",
    "color=['blue']*10+['red']*10\n",
    "fig = plt.figure()\n",
    "ax = fig.add_subplot(111, projection='3d')\n",
    "ax.scatter(x[:,0],x[:,1],x[:,2],color=color)\n",
    "plt.show()"
   ]
  },
  {
   "cell_type": "markdown",
   "metadata": {},
   "source": [
    "### t-NSE"
   ]
  },
  {
   "cell_type": "code",
   "execution_count": 19,
   "metadata": {},
   "outputs": [
    {
     "name": "stdout",
     "output_type": "stream",
     "text": [
      "divergence -13.484418379262106\n",
      "divergence -16.803401698583286\n",
      "divergence -12.654906328641205\n",
      "divergence -12.333339287741298\n",
      "divergence -12.365559680289195\n",
      "divergence -12.39258485681447\n",
      "divergence -12.416700700076415\n",
      "divergence -12.438681171683044\n",
      "divergence -12.461568796983228\n",
      "divergence -12.483681334490933\n",
      "divergence -12.50441303673024\n",
      "divergence -12.523932249766865\n",
      "divergence -12.544167983254079\n",
      "divergence -12.56372414254238\n",
      "divergence -12.582395785895466\n",
      "divergence -12.600266162118167\n",
      "divergence -12.618389100858412\n",
      "divergence -12.636904874638981\n",
      "divergence -12.656170020618484\n",
      "divergence -12.674841881363728\n"
     ]
    },
    {
     "data": {
      "image/png": "[encoded data removed]",
      "text/plain": [
       "<Figure size 432x288 with 1 Axes>"
      ]
     },
     "metadata": {
      "needs_background": "light"
     },
     "output_type": "display_data"
    }
   ],
   "source": [
    "table_p=compute_p(x)\n",
    "#Probably not the right way to initialize the new space y\n",
    "y=x.dot(np.random.rand(x.shape[1],2))\n",
    "y-=np.mean(y)\n",
    "y/=np.std(y)\n",
    "table_q=compute_q(y)\n",
    "y=gradient_descent(table_p,table_q,y)\n",
    "plt.scatter(y[:,0],y[:,1],color=color)\n",
    "plt.show()"
   ]
  },
  {
   "cell_type": "code",
   "execution_count": null,
   "metadata": {},
   "outputs": [],
   "source": []
  }
 ],
 "metadata": {
  "interpreter": {
   "hash": "a338a2dec1bbabc310c9eb40af45fca4423b43128a2829cc1341347192880fe9"
  },
  "kernelspec": {
   "display_name": "Python 3.10.4 ('data-vis')",
   "language": "python",
   "name": "python3"
  },
  "language_info": {
   "codemirror_mode": {
    "name": "ipython",
    "version": 3
   },
   "file_extension": ".py",
   "mimetype": "text/x-python",
   "name": "python",
   "nbconvert_exporter": "python",
   "pygments_lexer": "ipython3",
   "version": "3.10.4"
  },
  "orig_nbformat": 4
 },
 "nbformat": 4,
 "nbformat_minor": 2
}
