{
 "cells": [
  {
   "cell_type": "markdown",
   "metadata": {},
   "source": [
    "# Задание 3: расположение меток/подписей (label placement) \n",
    "\n",
    "\n",
    "На входе алгоритма набор пар целочисленных координат точек от 0 до 500, а также для каждой точки размеры подписи к ней (два целых числа — ширина и высота рамки подписи) и некоторое подмножество возможных расположений подписи (см. картинки справа). Кодирование входных данных — на ваш выбор, но лучше согласовать друг с другом в Телеграме, чтобы удобно было обмениваться примерами входных данных. \n",
    "\n",
    "На выходе — картинка с точками и неперекрывающимися метками (в частности, не вылезающими за пределы холста 500×500) либо указание, что такое расположение недостижимо. \n",
    "\n",
    "Задачу можно решать  \n",
    "\n",
    "- либо в постановке, когда для каждой точки задан выбор не более чем из двух вариантов расположения подписи, и написать самостоятельно 2-SAT решатель,  \n",
    "\n",
    "- либо без ограничений на количество вариантов, и тогда допустимо воспользоваться сторонним SAT-решателем, указав, как Вы кодируете задачу."
   ]
  },
  {
   "cell_type": "markdown",
   "metadata": {},
   "source": [
    "## Формат данных\n",
    "\n",
    "Входные данные представлены так\n",
    "- data.txt - файл, каждая строка которого содержит\n",
    "  - координата (x,y)\n",
    "  - значения (ширина, высота) лэйбла\n",
    "  - координата (x,y) левого нижнего угла лэйбла\n",
    "  - координата (х,y) правого верхнего угла лэйбла"
   ]
  },
  {
   "cell_type": "code",
   "execution_count": 17,
   "metadata": {},
   "outputs": [],
   "source": [
    "import networkx as nx\n",
    "import warnings\n",
    "warnings.filterwarnings(\"ignore\")\n",
    "\n",
    "text_file = 'data.txt'"
   ]
  },
  {
   "cell_type": "code",
   "execution_count": 18,
   "metadata": {},
   "outputs": [],
   "source": [
    "class Pos:\n",
    "    def __init__(self, *arr):\n",
    "        assert len(arr) == 2\n",
    "        self.xy = arr\n",
    "    \n",
    "    def __add__(self, that):\n",
    "        return [a + b for a, b in zip(self.xy, that.xy)]\n",
    "    \n",
    "    def __sub__(self, that):\n",
    "        return [a - b for a, b in zip(self.xy, that.xy)]\n",
    "    \n",
    "    def __neg__(self):\n",
    "        return [-a for a in self.xy]\n",
    "    \n",
    "    def __str__(self):\n",
    "        return str(self.xy)\n",
    "    \n",
    "    def __repr__(self):\n",
    "        return str(self)\n",
    "    \n",
    "    def parse(s):\n",
    "        arr = [int(a) for a in s.split(',')]\n",
    "        return Pos(*arr)\n",
    "\n",
    "\n",
    "class Box:\n",
    "    def __init__(self, line):\n",
    "        arr = line.split('\\t')\n",
    "        self.pos = Pos.parse(arr[0])\n",
    "        self.size = Pos.parse(arr[1])\n",
    "        self.offsets = [Pos.parse(pos) for pos in arr[2].split(' ')]\n",
    "        assert len(self.offsets) > 0\n",
    "    \n",
    "    def __str__(self):\n",
    "        return 'Box(pos={}, size={}, offsets={})'.format(self.pos, self.size, self.offsets)\n",
    "    \n",
    "    def __repr__(self):\n",
    "        return str(self)\n",
    "\n",
    "\n",
    "class label_box:\n",
    "    def __init__(self, line):\n",
    "        arr = line.split('\\t')\n",
    "        self.offsets = [Pos.parse(pos) for pos in arr[2].split(' ')]\n",
    "        self.pos = Pos.parse(arr[0])\n",
    "        self.x = self.pos.xy[0]\n",
    "        self.y = self.pos.xy[1]\n",
    "        self.width = Pos.parse(arr[1]).xy[0]\n",
    "        self.height = Pos.parse(arr[1]).xy[1]"
   ]
  },
  {
   "cell_type": "code",
   "execution_count": 19,
   "metadata": {},
   "outputs": [],
   "source": [
    "raw_data = open(text_file, 'r').read()\n",
    "\n",
    "boxes = [Box(line) for line in raw_data.strip().split('\\n')]\n",
    "labels_list = [label_box(line) for line in raw_data.strip().split('\\n')]"
   ]
  },
  {
   "cell_type": "code",
   "execution_count": 20,
   "metadata": {},
   "outputs": [
    {
     "data": {
      "image/png": "[encoded data removed]",
      "text/plain": [
       "<Figure size 720x720 with 1 Axes>"
      ]
     },
     "metadata": {
      "needs_background": "light"
     },
     "output_type": "display_data"
    }
   ],
   "source": [
    "var = 0\n",
    "import matplotlib.pyplot as plt\n",
    "import matplotlib.patches as patches\n",
    "\n",
    "fig = plt.figure(figsize = (10,10))\n",
    "ax = fig.add_subplot(111, aspect='equal')\n",
    "\n",
    "for i in range(len(labels_list)): \n",
    "    ax.plot(labels_list[i].x , labels_list[i].y, 'go')\n",
    "    ax.add_patch(patches.Rectangle((labels_list[i].x + labels_list[i].offsets[0].xy[0], \n",
    "                                    labels_list[i].y + labels_list[i].offsets[0].xy[1]),\n",
    "                               labels_list[i].width, labels_list[i].height, fill=False))"
   ]
  },
  {
   "cell_type": "code",
   "execution_count": 21,
   "metadata": {},
   "outputs": [],
   "source": [
    "import networkx as nx\n",
    "N = len(labels_list)\n",
    "G=nx.DiGraph()\n",
    "\n",
    "def intersect(label1, label2):\n",
    "    if (label1.y + label1.height < label2.y) or (label2.y + label2.height < label1.y) or (label1.x + label1.width < label2.x) or (label2.x + label2.width < label1.x):\n",
    "        return False\n",
    "    return True\n",
    "\n",
    "for i in range(N):\n",
    "    G.add_node(str(i))\n",
    "    G.add_node(\"no\" + str(i))\n",
    "\n",
    "cross = []\n",
    "for i in range(N):\n",
    "    for k in range(N):\n",
    "        if i != k and intersect(labels_list[i], labels_list[k]):\n",
    "            cross.append([i,k])\n",
    "cross_unique = set()\n",
    "\n",
    "for elem in cross:\n",
    "    elem.sort()\n",
    "    elem_frozen = tuple(elem)\n",
    "    if (elem[1] - elem[0] == 1) and  (elem[0] // 2 == elem[1] // 2):\n",
    "        continue\n",
    "    cross_unique.add(elem_frozen)\n",
    "\n",
    "for elem in cross_unique:\n",
    "    node1 = elem[0] // 2\n",
    "    no_node1 = elem[0] % 2\n",
    "    node2 = elem[1] // 2\n",
    "    no_node2 = elem[1] % 2\n",
    "    if no_node1 == 0 and no_node2 == 0:\n",
    "        G.add_edge(str(node1), \"no\" + str(node2))\n",
    "        G.add_edge(str(node2), \"no\" + str(node1))\n",
    "    if no_node1 == 1 and no_node2 == 0:\n",
    "        G.add_edge(\"no\" + str(node1), \"no\" + str(node2))\n",
    "        G.add_edge(str(node2),  str(node1))\n",
    "    if no_node1 == 1 and no_node2 == 1:\n",
    "        G.add_edge(\"no\" + str(node1), str(node2))\n",
    "        G.add_edge(\"no\" + str(node2), str(node1))\n",
    "    if no_node1 == 0 and no_node2 == 1:\n",
    "        G.add_edge(str(node1), str(node2))\n",
    "        G.add_edge(\"no\" + str(node2), \"no\" + str(node1))"
   ]
  },
  {
   "cell_type": "code",
   "execution_count": 22,
   "metadata": {},
   "outputs": [
    {
     "data": {
      "image/png": "[encoded data removed]",
      "text/plain": [
       "<Figure size 432x288 with 1 Axes>"
      ]
     },
     "metadata": {
      "needs_background": "light"
     },
     "output_type": "display_data"
    },
    {
     "data": {
      "image/png": "[encoded data removed]",
      "text/plain": [
       "<Figure size 720x720 with 1 Axes>"
      ]
     },
     "metadata": {},
     "output_type": "display_data"
    }
   ],
   "source": [
    "import matplotlib.pyplot as plt\n",
    "\n",
    "plt.subplot(121)\n",
    "plt.figure(figsize=(10, 10))\n",
    "nx.draw(G, with_labels=True, font_weight='bold')"
   ]
  },
  {
   "cell_type": "code",
   "execution_count": 23,
   "metadata": {},
   "outputs": [],
   "source": [
    "comp = {}\n",
    "counter = 0\n",
    "node_var = {}\n",
    "solution_exists = True\n",
    "for s in nx.strongly_connected_components(G):\n",
    "    for node in s:\n",
    "        comp[node] = counter\n",
    "    counter += 1\n",
    "for i in range(N):\n",
    "    if comp[str(i)] == comp[\"no\" + str(i)]:\n",
    "        print(\"no solution\")\n",
    "        solution_exists = False\n",
    "for i in range(N):\n",
    "    if comp[str(i)] > comp[\"no\" + str(i)]:\n",
    "        node_var[i] = 1\n",
    "    else:\n",
    "        node_var[i] = 0"
   ]
  },
  {
   "cell_type": "code",
   "execution_count": 24,
   "metadata": {},
   "outputs": [
    {
     "data": {
      "image/png": "[encoded data removed]",
      "text/plain": [
       "<Figure size 720x720 with 1 Axes>"
      ]
     },
     "metadata": {
      "needs_background": "light"
     },
     "output_type": "display_data"
    }
   ],
   "source": [
    "import matplotlib.pyplot as plt\n",
    "import matplotlib.patches as patches\n",
    "\n",
    "if solution_exists:\n",
    "  fig = plt.figure(figsize = (10,10))\n",
    "  ax = fig.add_subplot(111, aspect='equal')\n",
    "\n",
    "  plt.xlim(0, 500)\n",
    "  plt.ylim(0, 500)\n",
    "\n",
    "  for i in range(len(labels_list)): \n",
    "      ax.plot(labels_list[i].x , labels_list[i].y, 'go')\n",
    "      ax.add_patch(patches.Rectangle((labels_list[i].x + labels_list[i].offsets[node_var[i]].xy[0], \n",
    "                                      labels_list[i].y + labels_list[i].offsets[node_var[i]].xy[1]),\n",
    "                                 labels_list[i].width, labels_list[i].height, fill=False))\n",
    "else: print(\"no solution!\")"
   ]
  },
  {
   "cell_type": "code",
   "execution_count": null,
   "metadata": {},
   "outputs": [],
   "source": []
  }
 ],
 "metadata": {
  "interpreter": {
   "hash": "f86864f121675383ebd2336f458dc4884acebb8f64739a627f6ab44971032c6f"
  },
  "kernelspec": {
   "display_name": "Python 3.9.7 ('base')",
   "language": "python",
   "name": "python3"
  },
  "language_info": {
   "codemirror_mode": {
    "name": "ipython",
    "version": 3
   },
   "file_extension": ".py",
   "mimetype": "text/x-python",
   "name": "python",
   "nbconvert_exporter": "python",
   "pygments_lexer": "ipython3",
   "version": "3.10.4"
  },
  "orig_nbformat": 4
 },
 "nbformat": 4,
 "nbformat_minor": 2
}
